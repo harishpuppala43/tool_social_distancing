{
 "cells": [
  {
   "cell_type": "code",
   "execution_count": 4,
   "metadata": {
    "colab": {},
    "colab_type": "code",
    "id": "W9FgRNMSFhop"
   },
   "outputs": [],
   "source": [
    "import pandas as pd\n",
    "import numpy as np"
   ]
  },
  {
   "cell_type": "code",
   "execution_count": 5,
   "metadata": {
    "colab": {},
    "colab_type": "code",
    "id": "oIuGcgQDGdCI"
   },
   "outputs": [],
   "source": [
    "\n",
    "df_orig=pd.read_excel('data_new.xlsx')\n"
   ]
  },
  {
   "cell_type": "code",
   "execution_count": 6,
   "metadata": {
    "colab": {
     "base_uri": "https://localhost:8080/",
     "height": 328
    },
    "colab_type": "code",
    "id": "Yb6njqt34Awd",
    "outputId": "02a4f6cf-fae2-438c-d7ac-4405c5b3e027"
   },
   "outputs": [
    {
     "data": {
      "text/html": [
       "<div>\n",
       "<style scoped>\n",
       "    .dataframe tbody tr th:only-of-type {\n",
       "        vertical-align: middle;\n",
       "    }\n",
       "\n",
       "    .dataframe tbody tr th {\n",
       "        vertical-align: top;\n",
       "    }\n",
       "\n",
       "    .dataframe thead th {\n",
       "        text-align: right;\n",
       "    }\n",
       "</style>\n",
       "<table border=\"1\" class=\"dataframe\">\n",
       "  <thead>\n",
       "    <tr style=\"text-align: right;\">\n",
       "      <th></th>\n",
       "      <th>rollno</th>\n",
       "      <th>Section</th>\n",
       "      <th>Mobile number</th>\n",
       "    </tr>\n",
       "  </thead>\n",
       "  <tbody>\n",
       "    <tr>\n",
       "      <th>0</th>\n",
       "      <td>2013</td>\n",
       "      <td>A</td>\n",
       "      <td>9460502345</td>\n",
       "    </tr>\n",
       "    <tr>\n",
       "      <th>1</th>\n",
       "      <td>2014</td>\n",
       "      <td>A</td>\n",
       "      <td>9465656589</td>\n",
       "    </tr>\n",
       "    <tr>\n",
       "      <th>2</th>\n",
       "      <td>2015</td>\n",
       "      <td>A</td>\n",
       "      <td>9470810833</td>\n",
       "    </tr>\n",
       "    <tr>\n",
       "      <th>3</th>\n",
       "      <td>2016</td>\n",
       "      <td>A</td>\n",
       "      <td>9475965077</td>\n",
       "    </tr>\n",
       "    <tr>\n",
       "      <th>4</th>\n",
       "      <td>2017</td>\n",
       "      <td>A</td>\n",
       "      <td>9481119321</td>\n",
       "    </tr>\n",
       "    <tr>\n",
       "      <th>5</th>\n",
       "      <td>2018</td>\n",
       "      <td>B</td>\n",
       "      <td>9999999999</td>\n",
       "    </tr>\n",
       "    <tr>\n",
       "      <th>6</th>\n",
       "      <td>2019</td>\n",
       "      <td>B</td>\n",
       "      <td>9999999998</td>\n",
       "    </tr>\n",
       "    <tr>\n",
       "      <th>7</th>\n",
       "      <td>2020</td>\n",
       "      <td>B</td>\n",
       "      <td>9838248815</td>\n",
       "    </tr>\n",
       "    <tr>\n",
       "      <th>8</th>\n",
       "      <td>2013</td>\n",
       "      <td>A</td>\n",
       "      <td>8299174518</td>\n",
       "    </tr>\n",
       "  </tbody>\n",
       "</table>\n",
       "</div>"
      ],
      "text/plain": [
       "   rollno Section  Mobile number\n",
       "0    2013       A     9460502345\n",
       "1    2014       A     9465656589\n",
       "2    2015       A     9470810833\n",
       "3    2016       A     9475965077\n",
       "4    2017       A     9481119321\n",
       "5    2018       B     9999999999\n",
       "6    2019       B     9999999998\n",
       "7    2020       B     9838248815\n",
       "8    2013       A     8299174518"
      ]
     },
     "execution_count": 6,
     "metadata": {},
     "output_type": "execute_result"
    }
   ],
   "source": [
    "df_orig"
   ]
  },
  {
   "cell_type": "code",
   "execution_count": 7,
   "metadata": {
    "colab": {},
    "colab_type": "code",
    "id": "H4WlrEunGuFA"
   },
   "outputs": [],
   "source": [
    "df=df_orig.groupby(['Section']).min().reset_index()"
   ]
  },
  {
   "cell_type": "code",
   "execution_count": 8,
   "metadata": {
    "colab": {
     "base_uri": "https://localhost:8080/",
     "height": 111
    },
    "colab_type": "code",
    "id": "sMjgUihdct-u",
    "outputId": "28d91ddc-544e-4f0c-b263-334a124a938f"
   },
   "outputs": [
    {
     "data": {
      "text/html": [
       "<div>\n",
       "<style scoped>\n",
       "    .dataframe tbody tr th:only-of-type {\n",
       "        vertical-align: middle;\n",
       "    }\n",
       "\n",
       "    .dataframe tbody tr th {\n",
       "        vertical-align: top;\n",
       "    }\n",
       "\n",
       "    .dataframe thead th {\n",
       "        text-align: right;\n",
       "    }\n",
       "</style>\n",
       "<table border=\"1\" class=\"dataframe\">\n",
       "  <thead>\n",
       "    <tr style=\"text-align: right;\">\n",
       "      <th></th>\n",
       "      <th>Section</th>\n",
       "      <th>rollno</th>\n",
       "      <th>Mobile number</th>\n",
       "    </tr>\n",
       "  </thead>\n",
       "  <tbody>\n",
       "    <tr>\n",
       "      <th>0</th>\n",
       "      <td>A</td>\n",
       "      <td>2013</td>\n",
       "      <td>8299174518</td>\n",
       "    </tr>\n",
       "    <tr>\n",
       "      <th>1</th>\n",
       "      <td>B</td>\n",
       "      <td>2018</td>\n",
       "      <td>9838248815</td>\n",
       "    </tr>\n",
       "  </tbody>\n",
       "</table>\n",
       "</div>"
      ],
      "text/plain": [
       "  Section  rollno  Mobile number\n",
       "0       A    2013     8299174518\n",
       "1       B    2018     9838248815"
      ]
     },
     "execution_count": 8,
     "metadata": {},
     "output_type": "execute_result"
    }
   ],
   "source": [
    "df"
   ]
  },
  {
   "cell_type": "code",
   "execution_count": 9,
   "metadata": {
    "colab": {},
    "colab_type": "code",
    "id": "4B-eHXQ6Pd5i"
   },
   "outputs": [],
   "source": [
    "import datetime\n",
    "def fill_slots(time_slot_size,start_day,start_month,start_year,start_hour,start_min):\n",
    "    \n",
    "    slots=[] \n",
    "    a = datetime.datetime(start_year,start_month,start_day,start_hour,start_min,0)# YYYY/MMMM/DDDD \n",
    "    for i in range(df.shape[0]):\n",
    "        b = a + datetime.timedelta(0,time_slot_size*60)\n",
    "        slots.append(str(a.time()) + \" to \"+ str(b.time())) \n",
    "        a=b\n",
    "    \n",
    "    df[\"slots\"] = slots \n",
    "    df.to_excel(\"output.xlsx\",sheet_name='slotted',index=False)  "
   ]
  },
  {
   "cell_type": "code",
   "execution_count": 12,
   "metadata": {
    "colab": {},
    "colab_type": "code",
    "id": "dEit9dWePbQ5"
   },
   "outputs": [],
   "source": [
    "fill_slots(30,1,12,2019,11,0)"
   ]
  },
  {
   "cell_type": "code",
   "execution_count": 13,
   "metadata": {
    "colab": {
     "base_uri": "https://localhost:8080/",
     "height": 111
    },
    "colab_type": "code",
    "id": "hs5HT5JOHefK",
    "outputId": "f9b05c2a-8e5a-4638-f6bf-fdf28e033d70"
   },
   "outputs": [
    {
     "data": {
      "text/html": [
       "<div>\n",
       "<style scoped>\n",
       "    .dataframe tbody tr th:only-of-type {\n",
       "        vertical-align: middle;\n",
       "    }\n",
       "\n",
       "    .dataframe tbody tr th {\n",
       "        vertical-align: top;\n",
       "    }\n",
       "\n",
       "    .dataframe thead th {\n",
       "        text-align: right;\n",
       "    }\n",
       "</style>\n",
       "<table border=\"1\" class=\"dataframe\">\n",
       "  <thead>\n",
       "    <tr style=\"text-align: right;\">\n",
       "      <th></th>\n",
       "      <th>Section</th>\n",
       "      <th>rollno</th>\n",
       "      <th>Mobile number</th>\n",
       "      <th>slots</th>\n",
       "    </tr>\n",
       "  </thead>\n",
       "  <tbody>\n",
       "    <tr>\n",
       "      <th>0</th>\n",
       "      <td>A</td>\n",
       "      <td>2013</td>\n",
       "      <td>8299174518</td>\n",
       "      <td>11:00:00 to 11:30:00</td>\n",
       "    </tr>\n",
       "    <tr>\n",
       "      <th>1</th>\n",
       "      <td>B</td>\n",
       "      <td>2018</td>\n",
       "      <td>9838248815</td>\n",
       "      <td>11:30:00 to 12:00:00</td>\n",
       "    </tr>\n",
       "  </tbody>\n",
       "</table>\n",
       "</div>"
      ],
      "text/plain": [
       "  Section  rollno  Mobile number                 slots\n",
       "0       A    2013     8299174518  11:00:00 to 11:30:00\n",
       "1       B    2018     9838248815  11:30:00 to 12:00:00"
      ]
     },
     "execution_count": 13,
     "metadata": {},
     "output_type": "execute_result"
    }
   ],
   "source": [
    "df"
   ]
  },
  {
   "cell_type": "code",
   "execution_count": 14,
   "metadata": {
    "colab": {},
    "colab_type": "code",
    "id": "SCRN9L7Q8DxD"
   },
   "outputs": [],
   "source": [
    "import requests\n",
    "def send_to_all_running():\n",
    "\n",
    "  for i in range(df.shape[0]):\n",
    "    mobilenumber=str(df['Mobile number'][i])\n",
    "    slot_given=df['slots'][i]\n",
    "    message_to_be_sent='Your time slot is '+slot_given\n",
    "\n",
    "    url = \"https://www.fast2sms.com/dev/bulk\"\n",
    "    payload = \"sender_id=FSTSMS&message=\"+ message_to_be_sent+\"&language=english&route=p&numbers=\"+mobilenumber\n",
    "    headers = {\n",
    "    'authorization': \"epQ2RU1GvMirP7DfHNjESyLXx3qYZ4bTco9tgIawds68VBJmKn9S0cifzyoJgl3tLe2WGb8RZNIjMOXB\",\n",
    "    'Content-Type': \"application/x-www-form-urlencoded\",\n",
    "    'Cache-Control': \"no-cache\",\n",
    "    }\n",
    "    response = requests.request(\"POST\", url, data=payload, headers=headers)\n",
    "    print(response.text)"
   ]
  },
  {
   "cell_type": "code",
   "execution_count": 15,
   "metadata": {
    "colab": {
     "base_uri": "https://localhost:8080/",
     "height": 51
    },
    "colab_type": "code",
    "id": "RtgMPqhycBcs",
    "outputId": "fc9d3b94-2cf1-4feb-ed39-463ae3920202"
   },
   "outputs": [
    {
     "name": "stdout",
     "output_type": "stream",
     "text": [
      "{\"return\":true,\"request_id\":\"21cimk06yjwxop9\",\"message\":[\"Message sent successfully to NonDND numbers\"]}\n",
      "{\"return\":true,\"request_id\":\"6m3x9w7v8g0h4nk\",\"message\":[\"Message sent successfully to NonDND numbers\"]}\n"
     ]
    }
   ],
   "source": [
    "send_to_all_running()"
   ]
  },
  {
   "cell_type": "code",
   "execution_count": 0,
   "metadata": {
    "colab": {},
    "colab_type": "code",
    "id": "Vx7gZiSxcEOt"
   },
   "outputs": [],
   "source": []
  }
 ],
 "metadata": {
  "colab": {
   "name": "soft_complete final.ipynb",
   "provenance": []
  },
  "kernelspec": {
   "display_name": "Python 3",
   "language": "python",
   "name": "python3"
  },
  "language_info": {
   "codemirror_mode": {
    "name": "ipython",
    "version": 3
   },
   "file_extension": ".py",
   "mimetype": "text/x-python",
   "name": "python",
   "nbconvert_exporter": "python",
   "pygments_lexer": "ipython3",
   "version": "3.7.6"
  }
 },
 "nbformat": 4,
 "nbformat_minor": 1
}
